{
 "cells": [
  {
   "cell_type": "code",
   "execution_count": 1,
   "metadata": {},
   "outputs": [],
   "source": [
    "from add_ckpt_path import add_path_to_dust3r\n",
    "add_path_to_dust3r(\"src/somefile.blah\")\n",
    "from argparse import Namespace\n",
    "import numpy as np\n",
    "from torchvision import transforms\n",
    "from viser_utils import PointCloudViewer\n",
    "\n",
    "args = Namespace(resolution=(512, 384), device=\"cuda\", vis_threshold=1.5, size=512)"
   ]
  },
  {
   "cell_type": "code",
   "execution_count": 2,
   "metadata": {},
   "outputs": [
    {
     "name": "stdout",
     "output_type": "stream",
     "text": [
      "Found 9 sequences in split test\n",
      "Visualizing complete_kitchen (scene 1)\n"
     ]
    }
   ],
   "source": [
    "from eval.mv_recon.data import NRGBD\n",
    "\n",
    "dataset = NRGBD(\n",
    "            split=\"test\",\n",
    "            ROOT=\"./data/neural_rgbd\",\n",
    "            resolution=args.resolution,\n",
    "            num_seq=1,\n",
    "            full_video=True,\n",
    "            kf_every=100,\n",
    "        )\n",
    "\n",
    "undo_imgnorm = transforms.Normalize((-1, -1, -1), (2, 2, 2))\n",
    "scene_id = 1\n",
    "sequence = dataset[scene_id]\n",
    "print(f\"Visualizing {dataset.scene_list[scene_id]} (scene {scene_id})\")"
   ]
  },
  {
   "cell_type": "code",
   "execution_count": 3,
   "metadata": {},
   "outputs": [],
   "source": [
    "pts3ds_to_vis = [seq_view[\"pts3d\"] * [-1, -1, 1] for seq_view in sequence]\n",
    "colors_pytorch = [undo_imgnorm(seq_view[\"img\"]) for seq_view in sequence]\n",
    "colors_to_vis = [0.5 * (pt_img.permute(1, 2, 0).unsqueeze(0) + 1.0).numpy() for pt_img in colors_pytorch]\n",
    "confidence = [np.ones(colors_to_vis[0].shape[1:3])[np.newaxis, ...] * 2 for _ in range(len(sequence))]\n",
    "\n",
    "R_c2w = np.stack([(seq_view[\"camera_pose\"][:3, :3].T * [-1, -1, 1]).T for seq_view in sequence])\n",
    "t_c2w = np.stack([seq_view[\"camera_pose\"][:3, 3] * [-1, -1, 1] for seq_view in sequence])\n",
    "\n",
    "focal = [seq_view[\"camera_intrinsics\"][0, 0] for seq_view in sequence]\n",
    "pp = np.array(colors_to_vis[0].shape[1:3])[np.newaxis, ...].repeat(len(sequence), axis=0)\n",
    "cam_dict = {\"focal\": focal, \"pp\": pp, \"R\": R_c2w, \"t\": t_c2w}\n",
    "\n",
    "edge_colors = [None] * len(pts3ds_to_vis)"
   ]
  },
  {
   "cell_type": "code",
   "execution_count": 4,
   "metadata": {},
   "outputs": [
    {
     "data": {
      "text/html": [
       "<pre style=\"white-space:pre;overflow-x:auto;line-height:normal;font-family:Menlo,'DejaVu Sans Mono',consolas,'Courier New',monospace\">╭──────────────── <span style=\"font-weight: bold\">viser</span> ────────────────╮\n",
       "│             ╷                         │\n",
       "│   HTTP      │ http://localhost:8080   │\n",
       "│   Websocket │ ws://localhost:8080     │\n",
       "│             ╵                         │\n",
       "╰───────────────────────────────────────╯\n",
       "</pre>\n"
      ],
      "text/plain": [
       "╭──────────────── \u001b[1mviser\u001b[0m ────────────────╮\n",
       "│             ╷                         │\n",
       "│   HTTP      │ http://localhost:8080   │\n",
       "│   Websocket │ ws://localhost:8080     │\n",
       "│             ╵                         │\n",
       "╰───────────────────────────────────────╯\n"
      ]
     },
     "metadata": {},
     "output_type": "display_data"
    },
    {
     "ename": "KeyboardInterrupt",
     "evalue": "",
     "output_type": "error",
     "traceback": [
      "\u001b[0;31m---------------------------------------------------------------------------\u001b[0m",
      "\u001b[0;31mKeyboardInterrupt\u001b[0m                         Traceback (most recent call last)",
      "Cell \u001b[0;32mIn[4], line 15\u001b[0m\n\u001b[1;32m      1\u001b[0m viewer \u001b[38;5;241m=\u001b[39m PointCloudViewer(\n\u001b[1;32m      2\u001b[0m     \u001b[38;5;28;01mNone\u001b[39;00m,\n\u001b[1;32m      3\u001b[0m     \u001b[38;5;28;01mNone\u001b[39;00m,\n\u001b[0;32m   (...)\u001b[0m\n\u001b[1;32m     13\u001b[0m     only_show_edge\u001b[38;5;241m=\u001b[39m\u001b[38;5;28;01mFalse\u001b[39;00m\n\u001b[1;32m     14\u001b[0m )\n\u001b[0;32m---> 15\u001b[0m \u001b[43mviewer\u001b[49m\u001b[38;5;241;43m.\u001b[39;49m\u001b[43mrun\u001b[49m\u001b[43m(\u001b[49m\u001b[43m)\u001b[49m\n",
      "File \u001b[0;32m~/CUT3R/viser_utils.py:794\u001b[0m, in \u001b[0;36mPointCloudViewer.run\u001b[0;34m(self)\u001b[0m\n\u001b[1;32m    793\u001b[0m \u001b[38;5;28;01mdef\u001b[39;00m\u001b[38;5;250m \u001b[39m\u001b[38;5;21mrun\u001b[39m(\u001b[38;5;28mself\u001b[39m):\n\u001b[0;32m--> 794\u001b[0m     \u001b[38;5;28;43mself\u001b[39;49m\u001b[38;5;241;43m.\u001b[39;49m\u001b[43manimate\u001b[49m\u001b[43m(\u001b[49m\u001b[43m)\u001b[49m\n\u001b[1;32m    795\u001b[0m     \u001b[38;5;28;01mwhile\u001b[39;00m \u001b[38;5;28;01mTrue\u001b[39;00m:\n\u001b[1;32m    796\u001b[0m         time\u001b[38;5;241m.\u001b[39msleep(\u001b[38;5;241m10.0\u001b[39m)\n",
      "File \u001b[0;32m~/CUT3R/viser_utils.py:791\u001b[0m, in \u001b[0;36mPointCloudViewer.animate\u001b[0;34m(self)\u001b[0m\n\u001b[1;32m    784\u001b[0m     \u001b[38;5;28;01mfor\u001b[39;00m i, frame_node \u001b[38;5;129;01min\u001b[39;00m \u001b[38;5;28menumerate\u001b[39m(\u001b[38;5;28mself\u001b[39m\u001b[38;5;241m.\u001b[39mframe_nodes):\n\u001b[1;32m    785\u001b[0m         frame_node\u001b[38;5;241m.\u001b[39mvisible \u001b[38;5;241m=\u001b[39m (\n\u001b[1;32m    786\u001b[0m             i \u001b[38;5;241m<\u001b[39m\u001b[38;5;241m=\u001b[39m gui_timestep\u001b[38;5;241m.\u001b[39mvalue\n\u001b[1;32m    787\u001b[0m             \u001b[38;5;28;01mif\u001b[39;00m \u001b[38;5;129;01mnot\u001b[39;00m \u001b[38;5;28mself\u001b[39m\u001b[38;5;241m.\u001b[39mfourd\n\u001b[1;32m    788\u001b[0m             \u001b[38;5;28;01melse\u001b[39;00m i \u001b[38;5;241m==\u001b[39m gui_timestep\u001b[38;5;241m.\u001b[39mvalue\n\u001b[1;32m    789\u001b[0m         )\n\u001b[0;32m--> 791\u001b[0m time\u001b[38;5;241m.\u001b[39msleep(\u001b[38;5;241m1.0\u001b[39m \u001b[38;5;241m/\u001b[39m gui_framerate\u001b[38;5;241m.\u001b[39mvalue)\n",
      "\u001b[0;31mKeyboardInterrupt\u001b[0m: "
     ]
    }
   ],
   "source": [
    "viewer = PointCloudViewer(\n",
    "    None,\n",
    "    None,\n",
    "    pts3ds_to_vis,\n",
    "    colors_to_vis,\n",
    "    confidence,\n",
    "    cam_dict,\n",
    "    device=args.device,\n",
    "    edge_color_list=edge_colors,\n",
    "    show_camera=True,\n",
    "    vis_threshold=args.vis_threshold,\n",
    "    size = args.size,\n",
    "    only_show_edge=False\n",
    ")\n",
    "viewer.run()"
   ]
  }
 ],
 "metadata": {
  "kernelspec": {
   "display_name": "cut3r",
   "language": "python",
   "name": "python3"
  },
  "language_info": {
   "codemirror_mode": {
    "name": "ipython",
    "version": 3
   },
   "file_extension": ".py",
   "mimetype": "text/x-python",
   "name": "python",
   "nbconvert_exporter": "python",
   "pygments_lexer": "ipython3",
   "version": "3.11.11"
  }
 },
 "nbformat": 4,
 "nbformat_minor": 2
}
